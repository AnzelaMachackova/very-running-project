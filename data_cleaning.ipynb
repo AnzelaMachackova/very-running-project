{
 "cells": [
  {
   "cell_type": "code",
   "execution_count": 1,
   "id": "11a93bb0-161d-4f8c-bf1d-0a3bc266c9ab",
   "metadata": {},
   "outputs": [],
   "source": [
    "import pyspark\n",
    "from pyspark.sql import SparkSession\n",
    "from pyspark.conf import SparkConf\n",
    "from pyspark.context import SparkContext\n",
    "from pyspark.sql import functions as F\n",
    "from pyspark.sql.functions import col"
   ]
  },
  {
   "cell_type": "code",
   "execution_count": 2,
   "id": "ba89770b-5d51-497f-a929-889122574f2a",
   "metadata": {},
   "outputs": [],
   "source": [
    "credentials_location = '/Users/anzelam/ac/google/ac.json'\n",
    "\n",
    "conf = SparkConf() \\\n",
    "    .setMaster('local[*]') \\\n",
    "    .setAppName('GCSFilesRead') \\\n",
    "    .set(\"spark.jars\", \"../lib/gcs-connector-hadoop3-2.2.5.jar\") \\\n",
    "    .set(\"spark.hadoop.google.cloud.auth.service.account.enable\", \"true\") \\\n",
    "    .set(\"spark.hadoop.google.cloud.auth.service.account.json.keyfile\", credentials_location)"
   ]
  },
  {
   "cell_type": "code",
   "execution_count": 3,
   "id": "02dff2c3-6efb-4b34-bd59-60ca8d6c846c",
   "metadata": {},
   "outputs": [
    {
     "name": "stderr",
     "output_type": "stream",
     "text": [
      "24/04/14 11:18:50 WARN Utils: Your hostname, Anzela--MacBook-Air.local resolves to a loopback address: 127.0.0.1; using 192.168.7.108 instead (on interface en0)\n",
      "24/04/14 11:18:50 WARN Utils: Set SPARK_LOCAL_IP if you need to bind to another address\n",
      "24/04/14 11:18:50 WARN NativeCodeLoader: Unable to load native-hadoop library for your platform... using builtin-java classes where applicable\n",
      "Setting default log level to \"WARN\".\n",
      "To adjust logging level use sc.setLogLevel(newLevel). For SparkR, use setLogLevel(newLevel).\n"
     ]
    }
   ],
   "source": [
    "sc = SparkContext(conf=conf)\n",
    "\n",
    "hadoop_conf = sc._jsc.hadoopConfiguration()\n",
    "\n",
    "hadoop_conf.set(\"fs.AbstractFileSystem.gs.impl\",  \"com.google.cloud.hadoop.fs.gcs.GoogleHadoopFS\")\n",
    "hadoop_conf.set(\"fs.gs.impl\", \"com.google.cloud.hadoop.fs.gcs.GoogleHadoopFileSystem\")\n",
    "hadoop_conf.set(\"fs.gs.auth.service.account.json.keyfile\", credentials_location)\n",
    "hadoop_conf.set(\"fs.gs.auth.service.account.enable\", \"true\")"
   ]
  },
  {
   "cell_type": "code",
   "execution_count": 4,
   "id": "db3247a1-a126-43f3-afd5-3cd1b9af6389",
   "metadata": {},
   "outputs": [],
   "source": [
    "spark = SparkSession.builder \\\n",
    "    .config(conf=sc.getConf()) \\\n",
    "    .getOrCreate()"
   ]
  },
  {
   "cell_type": "code",
   "execution_count": 5,
   "id": "9642ce89-4cb1-4ef4-a39e-0b2f3b932baa",
   "metadata": {},
   "outputs": [],
   "source": [
    "running_df = spark.read.csv('gs://de-running-project-bucket/raw/TWO_CENTURIES_OF_UM_RACES.csv', header=True)"
   ]
  },
  {
   "cell_type": "code",
   "execution_count": 6,
   "id": "24cf69f0-82df-44bb-85f3-b4cca2fccf89",
   "metadata": {},
   "outputs": [
    {
     "data": {
      "text/plain": [
       "Row(Year of event='2018', Event dates='06.01.2018', Event name='Selva Costera (CHI)', Event distance/length='50km', Event number of finishers='22', Athlete performance='4:51:39 h', Athlete club='Tnfrc', Athlete country='CHI', Athlete year of birth='1978.0', Athlete gender='M', Athlete age category='M35', Athlete average speed='10.286', Athlete ID='0')"
      ]
     },
     "execution_count": 6,
     "metadata": {},
     "output_type": "execute_result"
    }
   ],
   "source": [
    "running_df.head()"
   ]
  },
  {
   "cell_type": "code",
   "execution_count": 7,
   "id": "c79e7c92-d3a0-491b-a8e9-53fe4ce3b2be",
   "metadata": {},
   "outputs": [],
   "source": [
    "column_mapping = {\n",
    "    \"Year of event\": \"year_of_event\",\n",
    "    \"Event dates\": \"event_dates\",\n",
    "    \"Event name\": \"event_name\",\n",
    "    \"Event distance/length\": \"event_distance_length\",\n",
    "    \"Event number of finishers\": \"event_num_finishers\",\n",
    "    \"Athlete performance\": \"athlete_performance\",\n",
    "    \"Athlete club\": \"athlete_club\",\n",
    "    \"Athlete country\": \"athlete_country\",\n",
    "    \"Athlete year of birth\": \"athlete_year_of_birth\",\n",
    "    \"Athlete gender\": \"athlete_gender\",\n",
    "    \"Athlete age category\": \"athlete_age_category\",\n",
    "    \"Athlete average speed\": \"athlete_average_speed\",\n",
    "    \"Athlete ID\": \"athlete_id\"\n",
    "}\n",
    "\n",
    "for old_col, new_col in column_mapping.items():\n",
    "    running_df = running_df.withColumnRenamed(old_col, new_col)"
   ]
  },
  {
   "cell_type": "code",
   "execution_count": 8,
   "id": "b69b84ea-ad0a-4320-87e2-0b70a0dd93e9",
   "metadata": {},
   "outputs": [
    {
     "name": "stdout",
     "output_type": "stream",
     "text": [
      "+-------------+-----------+-------------------+---------------------+-------------------+-------------------+--------------------+---------------+---------------------+--------------+--------------------+---------------------+----------+\n",
      "|year_of_event|event_dates|         event_name|event_distance_length|event_num_finishers|athlete_performance|        athlete_club|athlete_country|athlete_year_of_birth|athlete_gender|athlete_age_category|athlete_average_speed|athlete_id|\n",
      "+-------------+-----------+-------------------+---------------------+-------------------+-------------------+--------------------+---------------+---------------------+--------------+--------------------+---------------------+----------+\n",
      "|         2018| 06.01.2018|Selva Costera (CHI)|                 50km|                 22|          4:51:39 h|               Tnfrc|            CHI|               1978.0|             M|                 M35|               10.286|         0|\n",
      "|         2018| 06.01.2018|Selva Costera (CHI)|                 50km|                 22|          5:15:45 h|  Roberto Echeverría|            CHI|               1981.0|             M|                 M35|                9.501|         1|\n",
      "|         2018| 06.01.2018|Selva Costera (CHI)|                 50km|                 22|          5:16:44 h|   Puro Trail Osorno|            CHI|               1987.0|             M|                 M23|                9.472|         2|\n",
      "|         2018| 06.01.2018|Selva Costera (CHI)|                 50km|                 22|          5:34:13 h|            Columbia|            ARG|               1976.0|             M|                 M40|                8.976|         3|\n",
      "|         2018| 06.01.2018|Selva Costera (CHI)|                 50km|                 22|          5:54:14 h|      Baguales Trail|            CHI|               1992.0|             M|                 M23|                8.469|         4|\n",
      "|         2018| 06.01.2018|Selva Costera (CHI)|                 50km|                 22|          6:25:01 h|                null|            ARG|               1974.0|             M|                 M40|                7.792|         5|\n",
      "|         2018| 06.01.2018|Selva Costera (CHI)|                 50km|                 22|          6:28:00 h|       Los Patagones|            ARG|               1979.0|             F|                 W35|                7.732|         6|\n",
      "|         2018| 06.01.2018|Selva Costera (CHI)|                 50km|                 22|          6:32:24 h|      Reaktiva Chile|            CHI|               1967.0|             F|                 W50|                7.645|         7|\n",
      "|         2018| 06.01.2018|Selva Costera (CHI)|                 50km|                 22|          6:39:08 h|   Puro Trail Osorno|            CHI|               1985.0|             M|                 M23|                7.516|         8|\n",
      "|         2018| 06.01.2018|Selva Costera (CHI)|                 50km|                 22|          6:45:11 h| Marlene Flores Team|            CHI|               1976.0|             M|                 M40|                7.404|         9|\n",
      "|         2018| 06.01.2018|Selva Costera (CHI)|                 50km|                 22|          6:50:57 h|         Acuña Trail|            CHI|               1977.0|             M|                 M40|                  7.3|        10|\n",
      "|         2018| 06.01.2018|Selva Costera (CHI)|                 50km|                 22|          7:09:58 h|         Rocoto Team|            CHI|                 null|             M|                null|                6.977|        11|\n",
      "|         2018| 06.01.2018|Selva Costera (CHI)|                 50km|                 22|          7:12:15 h|               Tnfrc|            CHI|               1990.0|             F|                 W23|                 6.94|        12|\n",
      "|         2018| 06.01.2018|Selva Costera (CHI)|                 50km|                 22|          7:12:57 h|             Ottrail|            CHI|               1990.0|             M|                 M23|                6.929|        13|\n",
      "|         2018| 06.01.2018|Selva Costera (CHI)|                 50km|                 22|          7:26:04 h|    Dream Team Trail|            COL|               1967.0|             M|                 M50|                6.725|        14|\n",
      "|         2018| 06.01.2018|Selva Costera (CHI)|                 50km|                 22|          7:49:16 h|           Epic Team|            CHI|               1976.0|             M|                 M40|                6.393|        15|\n",
      "|         2018| 06.01.2018|Selva Costera (CHI)|                 50km|                 22|          8:00:56 h|                null|            CHI|               1971.0|             M|                 M45|                6.238|        16|\n",
      "|         2018| 06.01.2018|Selva Costera (CHI)|                 50km|                 22|          8:02:35 h|    Dream Team Trail|            CHI|               1985.0|             F|                 W23|                6.217|        17|\n",
      "|         2018| 06.01.2018|Selva Costera (CHI)|                 50km|                 22|          8:13:16 h|       Maipu Runners|            CHI|               1981.0|             F|                 W35|                6.082|        18|\n",
      "|         2018| 06.01.2018|Selva Costera (CHI)|                 50km|                 22|          8:13:16 h|Santiago Mountain...|            CHI|                 null|             M|                null|                6.082|        19|\n",
      "+-------------+-----------+-------------------+---------------------+-------------------+-------------------+--------------------+---------------+---------------------+--------------+--------------------+---------------------+----------+\n",
      "only showing top 20 rows\n",
      "\n"
     ]
    }
   ],
   "source": [
    "running_df.show()"
   ]
  },
  {
   "cell_type": "code",
   "execution_count": 9,
   "id": "facce762-3058-4082-a734-f102cf7963ec",
   "metadata": {},
   "outputs": [],
   "source": [
    "running_df = running_df.withColumn(\n",
    "    \"event_type\",\n",
    "    F.when(F.col(\"event_distance_length\").rlike(r\"\\d+[kKmMi]\"), \"Distance\")\n",
    "    .when(F.col(\"event_distance_length\").rlike(r\"\\d+[dh]\"), \"Time\")\n",
    "    .otherwise(\"Unknown\")\n",
    ")"
   ]
  },
  {
   "cell_type": "code",
   "execution_count": 10,
   "id": "4059c873-40c4-40dd-9f06-472a0efe86f9",
   "metadata": {},
   "outputs": [],
   "source": [
    "max_reasonable_speed = 25.0  # km/h\n",
    "\n",
    "running_df = running_df.withColumn(\n",
    "    \"athlete_average_speed\",\n",
    "    F.when(F.col(\"athlete_average_speed\") <= max_reasonable_speed, F.col(\"athlete_average_speed\"))\n",
    "    .otherwise(F.col(\"athlete_average_speed\") / 1000.0)  # Convert from m/s to km/h\n",
    ")"
   ]
  },
  {
   "cell_type": "code",
   "execution_count": 11,
   "id": "1ba50020-aa2a-4071-a8e4-69de3d5f91c2",
   "metadata": {},
   "outputs": [],
   "source": [
    "#Remove the h from the 'Athlete Performance' to show the hours\n",
    "running_df = running_df.withColumn('athlete_performance', F.split(F.col('athlete_performance'), ' ')[0])"
   ]
  },
  {
   "cell_type": "code",
   "execution_count": 20,
   "id": "328c9fb3-3a4a-4c1f-86af-98255d98c588",
   "metadata": {},
   "outputs": [],
   "source": [
    "running_df.createOrReplaceTempView('running_data')"
   ]
  },
  {
   "cell_type": "code",
   "execution_count": 33,
   "id": "d0c2cb68-8ef7-4ab6-ac25-64ff8ffc3398",
   "metadata": {},
   "outputs": [
    {
     "name": "stdout",
     "output_type": "stream",
     "text": [
      "+-------------+-----------+-------------------+---------------------+-------------------+-------------------+--------------------+---------------+---------------------+--------------+--------------------+---------------------+----------+----------+--------------+\n",
      "|year_of_event|event_dates|         event_name|event_distance_length|event_num_finishers|athlete_performance|        athlete_club|athlete_country|athlete_year_of_birth|athlete_gender|athlete_age_category|athlete_average_speed|athlete_id|event_type|distance_in_km|\n",
      "+-------------+-----------+-------------------+---------------------+-------------------+-------------------+--------------------+---------------+---------------------+--------------+--------------------+---------------------+----------+----------+--------------+\n",
      "|         2018| 06.01.2018|Selva Costera (CHI)|                 50km|                 22|            4:51:39|               Tnfrc|            CHI|               1978.0|             M|                 M35|               10.286|         0|  Distance|            50|\n",
      "|         2018| 06.01.2018|Selva Costera (CHI)|                 50km|                 22|            5:15:45|  Roberto Echeverría|            CHI|               1981.0|             M|                 M35|                9.501|         1|  Distance|            50|\n",
      "|         2018| 06.01.2018|Selva Costera (CHI)|                 50km|                 22|            5:16:44|   Puro Trail Osorno|            CHI|               1987.0|             M|                 M23|                9.472|         2|  Distance|            50|\n",
      "|         2018| 06.01.2018|Selva Costera (CHI)|                 50km|                 22|            5:34:13|            Columbia|            ARG|               1976.0|             M|                 M40|                8.976|         3|  Distance|            50|\n",
      "|         2018| 06.01.2018|Selva Costera (CHI)|                 50km|                 22|            5:54:14|      Baguales Trail|            CHI|               1992.0|             M|                 M23|                8.469|         4|  Distance|            50|\n",
      "|         2018| 06.01.2018|Selva Costera (CHI)|                 50km|                 22|            6:25:01|                null|            ARG|               1974.0|             M|                 M40|                7.792|         5|  Distance|            50|\n",
      "|         2018| 06.01.2018|Selva Costera (CHI)|                 50km|                 22|            6:28:00|       Los Patagones|            ARG|               1979.0|             F|                 W35|                7.732|         6|  Distance|            50|\n",
      "|         2018| 06.01.2018|Selva Costera (CHI)|                 50km|                 22|            6:32:24|      Reaktiva Chile|            CHI|               1967.0|             F|                 W50|                7.645|         7|  Distance|            50|\n",
      "|         2018| 06.01.2018|Selva Costera (CHI)|                 50km|                 22|            6:39:08|   Puro Trail Osorno|            CHI|               1985.0|             M|                 M23|                7.516|         8|  Distance|            50|\n",
      "|         2018| 06.01.2018|Selva Costera (CHI)|                 50km|                 22|            6:45:11| Marlene Flores Team|            CHI|               1976.0|             M|                 M40|                7.404|         9|  Distance|            50|\n",
      "|         2018| 06.01.2018|Selva Costera (CHI)|                 50km|                 22|            6:50:57|         Acuña Trail|            CHI|               1977.0|             M|                 M40|                  7.3|        10|  Distance|            50|\n",
      "|         2018| 06.01.2018|Selva Costera (CHI)|                 50km|                 22|            7:09:58|         Rocoto Team|            CHI|                 null|             M|                null|                6.977|        11|  Distance|            50|\n",
      "|         2018| 06.01.2018|Selva Costera (CHI)|                 50km|                 22|            7:12:15|               Tnfrc|            CHI|               1990.0|             F|                 W23|                 6.94|        12|  Distance|            50|\n",
      "|         2018| 06.01.2018|Selva Costera (CHI)|                 50km|                 22|            7:12:57|             Ottrail|            CHI|               1990.0|             M|                 M23|                6.929|        13|  Distance|            50|\n",
      "|         2018| 06.01.2018|Selva Costera (CHI)|                 50km|                 22|            7:26:04|    Dream Team Trail|            COL|               1967.0|             M|                 M50|                6.725|        14|  Distance|            50|\n",
      "|         2018| 06.01.2018|Selva Costera (CHI)|                 50km|                 22|            7:49:16|           Epic Team|            CHI|               1976.0|             M|                 M40|                6.393|        15|  Distance|            50|\n",
      "|         2018| 06.01.2018|Selva Costera (CHI)|                 50km|                 22|            8:00:56|                null|            CHI|               1971.0|             M|                 M45|                6.238|        16|  Distance|            50|\n",
      "|         2018| 06.01.2018|Selva Costera (CHI)|                 50km|                 22|            8:02:35|    Dream Team Trail|            CHI|               1985.0|             F|                 W23|                6.217|        17|  Distance|            50|\n",
      "|         2018| 06.01.2018|Selva Costera (CHI)|                 50km|                 22|            8:13:16|       Maipu Runners|            CHI|               1981.0|             F|                 W35|                6.082|        18|  Distance|            50|\n",
      "|         2018| 06.01.2018|Selva Costera (CHI)|                 50km|                 22|            8:13:16|Santiago Mountain...|            CHI|                 null|             M|                null|                6.082|        19|  Distance|            50|\n",
      "+-------------+-----------+-------------------+---------------------+-------------------+-------------------+--------------------+---------------+---------------------+--------------+--------------------+---------------------+----------+----------+--------------+\n",
      "only showing top 20 rows\n",
      "\n"
     ]
    }
   ],
   "source": [
    "sql_query = \"\"\"\n",
    "SELECT\n",
    "    *,\n",
    "    CASE \n",
    "        WHEN SUBSTRING_INDEX(event_distance_length, 'mi', 1) = event_distance_length THEN CAST(SUBSTRING_INDEX(event_distance_length, 'km', 1) AS INT)\n",
    "        WHEN SUBSTRING_INDEX(event_distance_length, 'km', 1) = event_distance_length THEN CAST(SUBSTRING_INDEX(event_distance_length, 'km', 1) AS INT)\n",
    "        ELSE 'Unknown'\n",
    "    END AS distance_in_km\n",
    "FROM running_data\n",
    "\"\"\"\n",
    "\n",
    "result_df = spark.sql(sql_query)\n",
    "result_df.show()"
   ]
  },
  {
   "cell_type": "code",
   "execution_count": 35,
   "id": "41839511",
   "metadata": {},
   "outputs": [
    {
     "name": "stderr",
     "output_type": "stream",
     "text": [
      "24/04/14 12:13:53 WARN MemoryManager: Total allocation exceeds 95,00% (1 020 054 720 bytes) of heap memory\n",
      "Scaling row group sizes to 95,00% for 8 writers\n",
      "                                                                                \r"
     ]
    }
   ],
   "source": [
    "#df.write.parquet('cleaned_data.parquet')\n",
    "result_df.repartition(10).write.parquet('gs://de-running-project-bucket/stage/')"
   ]
  },
  {
   "cell_type": "code",
   "execution_count": 36,
   "id": "34097bc5-c8f6-4a48-8422-a8fb9a0950bd",
   "metadata": {
    "scrolled": true
   },
   "outputs": [],
   "source": [
    "spark.stop()"
   ]
  },
  {
   "cell_type": "code",
   "execution_count": 37,
   "id": "4733a208-fc79-4941-81e2-01eef59cec83",
   "metadata": {},
   "outputs": [],
   "source": [
    "# sc.stop()"
   ]
  },
  {
   "cell_type": "code",
   "execution_count": null,
   "id": "a74e9e17-75f3-4d9b-8591-dd596d018a8e",
   "metadata": {},
   "outputs": [],
   "source": []
  }
 ],
 "metadata": {
  "kernelspec": {
   "display_name": "Python 3 (ipykernel)",
   "language": "python",
   "name": "python3"
  },
  "language_info": {
   "codemirror_mode": {
    "name": "ipython",
    "version": 3
   },
   "file_extension": ".py",
   "mimetype": "text/x-python",
   "name": "python",
   "nbconvert_exporter": "python",
   "pygments_lexer": "ipython3",
   "version": "3.12.2"
  }
 },
 "nbformat": 4,
 "nbformat_minor": 5
}
