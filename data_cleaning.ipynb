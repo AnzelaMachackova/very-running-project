{
 "cells": [
  {
   "cell_type": "code",
   "execution_count": 1,
   "id": "11a93bb0-161d-4f8c-bf1d-0a3bc266c9ab",
   "metadata": {},
   "outputs": [],
   "source": [
    "import pyspark\n",
    "from pyspark.sql import SparkSession\n",
    "from pyspark.conf import SparkConf\n",
    "from pyspark.context import SparkContext"
   ]
  },
  {
   "cell_type": "code",
   "execution_count": 2,
   "id": "ba89770b-5d51-497f-a929-889122574f2a",
   "metadata": {},
   "outputs": [],
   "source": [
    "credentials_location = '/Users/anzelam/ac/google/ac.json'\n",
    "\n",
    "conf = SparkConf() \\\n",
    "    .setMaster('local[*]') \\\n",
    "    .setAppName('GCSFilesRead') \\\n",
    "    .set(\"spark.jars\", \"../lib/gcs-connector-hadoop3-2.2.5.jar\") \\\n",
    "    .set(\"spark.hadoop.google.cloud.auth.service.account.enable\", \"true\") \\\n",
    "    .set(\"spark.hadoop.google.cloud.auth.service.account.json.keyfile\", credentials_location)"
   ]
  },
  {
   "cell_type": "code",
   "execution_count": 3,
   "id": "02dff2c3-6efb-4b34-bd59-60ca8d6c846c",
   "metadata": {},
   "outputs": [
    {
     "name": "stderr",
     "output_type": "stream",
     "text": [
      "24/04/13 21:47:53 WARN Utils: Your hostname, Anzela--MacBook-Air.local resolves to a loopback address: 127.0.0.1; using 192.168.7.108 instead (on interface en0)\n",
      "24/04/13 21:47:53 WARN Utils: Set SPARK_LOCAL_IP if you need to bind to another address\n",
      "24/04/13 21:47:53 WARN NativeCodeLoader: Unable to load native-hadoop library for your platform... using builtin-java classes where applicable\n",
      "Setting default log level to \"WARN\".\n",
      "To adjust logging level use sc.setLogLevel(newLevel). For SparkR, use setLogLevel(newLevel).\n"
     ]
    }
   ],
   "source": [
    "sc = SparkContext(conf=conf)\n",
    "\n",
    "hadoop_conf = sc._jsc.hadoopConfiguration()\n",
    "\n",
    "hadoop_conf.set(\"fs.AbstractFileSystem.gs.impl\",  \"com.google.cloud.hadoop.fs.gcs.GoogleHadoopFS\")\n",
    "hadoop_conf.set(\"fs.gs.impl\", \"com.google.cloud.hadoop.fs.gcs.GoogleHadoopFileSystem\")\n",
    "hadoop_conf.set(\"fs.gs.auth.service.account.json.keyfile\", credentials_location)\n",
    "hadoop_conf.set(\"fs.gs.auth.service.account.enable\", \"true\")"
   ]
  },
  {
   "cell_type": "code",
   "execution_count": 4,
   "id": "db3247a1-a126-43f3-afd5-3cd1b9af6389",
   "metadata": {},
   "outputs": [],
   "source": [
    "spark = SparkSession.builder \\\n",
    "    .config(conf=sc.getConf()) \\\n",
    "    .getOrCreate()"
   ]
  },
  {
   "cell_type": "code",
   "execution_count": 5,
   "id": "9642ce89-4cb1-4ef4-a39e-0b2f3b932baa",
   "metadata": {},
   "outputs": [],
   "source": [
    "running_df = spark.read.csv('gs://de-running-project-bucket/raw/TWO_CENTURIES_OF_UM_RACES.csv', header=True)"
   ]
  },
  {
   "cell_type": "code",
   "execution_count": 7,
   "id": "24cf69f0-82df-44bb-85f3-b4cca2fccf89",
   "metadata": {
    "jupyter": {
     "source_hidden": true
    }
   },
   "outputs": [
    {
     "name": "stderr",
     "output_type": "stream",
     "text": [
      "                                                                                \r"
     ]
    },
    {
     "data": {
      "text/plain": [
       "Row(Year of event='2018', Event dates='06.01.2018', Event name='Selva Costera (CHI)', Event distance/length='50km', Event number of finishers='22', Athlete performance='4:51:39 h', Athlete club='Tnfrc', Athlete country='CHI', Athlete year of birth='1978.0', Athlete gender='M', Athlete age category='M35', Athlete average speed='10.286', Athlete ID='0')"
      ]
     },
     "execution_count": 7,
     "metadata": {},
     "output_type": "execute_result"
    },
    {
     "name": "stderr",
     "output_type": "stream",
     "text": [
      "                                                                                \r"
     ]
    }
   ],
   "source": [
    "running_df.head()"
   ]
  },
  {
   "cell_type": "code",
   "execution_count": null,
   "id": "c79e7c92-d3a0-491b-a8e9-53fe4ce3b2be",
   "metadata": {},
   "outputs": [],
   "source": [
    "column_mapping = {\n",
    "    \"Year of event\": \"year_of_event\",\n",
    "    \"Event dates\": \"event_dates\",\n",
    "    \"Event name\": \"event_name\",\n",
    "    \"Event distance/length\": \"event_distance_length\",\n",
    "    \"Event number of finishers\": \"event_num_finishers\",\n",
    "    \"Athlete performance\": \"athlete_performance\",\n",
    "    \"Athlete club\": \"athlete_club\",\n",
    "    \"Athlete country\": \"athlete_country\",\n",
    "    \"Athlete year of birth\": \"athlete_year_of_birth\",\n",
    "    \"Athlete gender\": \"athlete_gender\",\n",
    "    \"Athlete age category\": \"athlete_age_category\",\n",
    "    \"Athlete average speed\": \"athlete_average_speed\",\n",
    "    \"Athlete ID\": \"athlete_id\"\n",
    "}\n",
    "\n",
    "for old_col, new_col in column_mapping.items():\n",
    "    running_df = running_df.withColumnRenamed(old_col, new_col)"
   ]
  },
  {
   "cell_type": "code",
   "execution_count": null,
   "id": "facce762-3058-4082-a734-f102cf7963ec",
   "metadata": {},
   "outputs": [],
   "source": [
    "running_df = running_df.withColumn(\n",
    "    \"event_type\",\n",
    "    when(col(\"event_distance_length\").rlike(r\"\\d+[kKmMi]\"), \"Distance\")\n",
    "    .when(col(\"event_distance_length\").rlike(r\"\\d+[dh]\"), \"Time\")\n",
    "    .otherwise(\"Unknown\")\n",
    ")"
   ]
  },
  {
   "cell_type": "code",
   "execution_count": null,
   "id": "5fc7fdd8-0831-4dfd-adf5-ec16c6ea5a5b",
   "metadata": {},
   "outputs": [],
   "source": [
    "total_rows = running_df.count()\n",
    "filtered_rows_distance = (\n",
    "    running_df.groupBy(\"event_type\")\n",
    "        .agg(count(\"*\").alias(\"count\"))\n",
    "        .withColumn(\"percentage\", col(\"count\") / lit(total_rows) * 100)\n",
    ")\n",
    "filtered_rows_distance.show(filtered_rows_distance.count(), truncate=False)"
   ]
  },
  {
   "cell_type": "code",
   "execution_count": null,
   "id": "f72b794a-ae05-48d1-93b8-41324f05e883",
   "metadata": {},
   "outputs": [],
   "source": [
    "missing_values_per_column = running_df.select([col(c).isNull().alias(c) for c in running_df.columns])\n",
    "missing_values_count = missing_values_per_column.agg(*[sum(col(c).cast(\"int\")).alias(c) for c in missing_values_per_column.columns])\n",
    "\n",
    "missing_values_percentage_raw = missing_values_count.select([(col(c) / total_rows * 100).alias(c) for c in running_df.columns])\n",
    " \n",
    "missing_values_percentage = missing_values_percentage_raw.select([col(c).cast(\"int\").alias(c) for c in running_df.columns])\n",
    "missing_values_percentage.show()"
   ]
  },
  {
   "cell_type": "code",
   "execution_count": null,
   "id": "4059c873-40c4-40dd-9f06-472a0efe86f9",
   "metadata": {},
   "outputs": [],
   "source": [
    "max_reasonable_speed = 25.0  # km/h\n",
    "\n",
    "running_df = running_df.withColumn(\n",
    "    \"athlete_average_speed\",\n",
    "    when(col(\"athlete_average_speed\") <= max_reasonable_speed, col(\"athlete_average_speed\"))\n",
    "    .otherwise(col(\"athlete_average_speed\") / 1000.0)  # Convert from m/s to km/h\n",
    ")"
   ]
  },
  {
   "cell_type": "code",
   "execution_count": 8,
   "id": "34097bc5-c8f6-4a48-8422-a8fb9a0950bd",
   "metadata": {},
   "outputs": [],
   "source": [
    "spark.stop()"
   ]
  },
  {
   "cell_type": "code",
   "execution_count": null,
   "id": "4733a208-fc79-4941-81e2-01eef59cec83",
   "metadata": {},
   "outputs": [],
   "source": []
  }
 ],
 "metadata": {
  "kernelspec": {
   "display_name": "Python 3 (ipykernel)",
   "language": "python",
   "name": "python3"
  },
  "language_info": {
   "codemirror_mode": {
    "name": "ipython",
    "version": 3
   },
   "file_extension": ".py",
   "mimetype": "text/x-python",
   "name": "python",
   "nbconvert_exporter": "python",
   "pygments_lexer": "ipython3",
   "version": "3.12.2"
  }
 },
 "nbformat": 4,
 "nbformat_minor": 5
}
